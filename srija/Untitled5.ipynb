{
  "nbformat": 4,
  "nbformat_minor": 0,
  "metadata": {
    "colab": {
      "provenance": [],
      "authorship_tag": "ABX9TyPS1G0DjBeIEDotBWydYpLy",
      "include_colab_link": true
    },
    "kernelspec": {
      "name": "python3",
      "display_name": "Python 3"
    },
    "language_info": {
      "name": "python"
    }
  },
  "cells": [
    {
      "cell_type": "markdown",
      "metadata": {
        "id": "view-in-github",
        "colab_type": "text"
      },
      "source": [
        "<a href=\"https://colab.research.google.com/github/srija2771/pytorch5/blob/main/srija/Untitled5.ipynb\" target=\"_parent\"><img src=\"https://colab.research.google.com/assets/colab-badge.svg\" alt=\"Open In Colab\"/></a>"
      ]
    },
    {
      "cell_type": "markdown",
      "source": [
        "**Pytorch workFlow**"
      ],
      "metadata": {
        "id": "zq-xX0vuht3Y"
      }
    },
    {
      "cell_type": "code",
      "source": [
        "import torch\n",
        "from torch import nn\n",
        "import matplotlib.pyplot as plt\n",
        "torch.__version__"
      ],
      "metadata": {
        "colab": {
          "base_uri": "https://localhost:8080/",
          "height": 36
        },
        "id": "0d7bqWHkgfA6",
        "outputId": "f65cf9dc-e14a-4926-a25d-29dcca3f4665"
      },
      "execution_count": 1,
      "outputs": [
        {
          "output_type": "execute_result",
          "data": {
            "text/plain": [
              "'2.1.0+cu121'"
            ],
            "application/vnd.google.colaboratory.intrinsic+json": {
              "type": "string"
            }
          },
          "metadata": {},
          "execution_count": 1
        }
      ]
    },
    {
      "cell_type": "markdown",
      "source": [
        "**Data processing and loading**"
      ],
      "metadata": {
        "id": "6TZeKAWahjKh"
      }
    },
    {
      "cell_type": "code",
      "source": [
        "weight=0.7\n",
        "bias=0.3\n",
        "start=0\n",
        "end=1\n",
        "step=0.02\n",
        "x=torch.arange(start,end,step).unsqueeze(dim=1)\n",
        "y=weight*x+bias\n",
        "x[:10],y[:10]"
      ],
      "metadata": {
        "colab": {
          "base_uri": "https://localhost:8080/"
        },
        "id": "3v7QwIr3guAc",
        "outputId": "a7299691-5fde-4958-87ed-6a4cad45f11c"
      },
      "execution_count": 2,
      "outputs": [
        {
          "output_type": "execute_result",
          "data": {
            "text/plain": [
              "(tensor([[0.0000],\n",
              "         [0.0200],\n",
              "         [0.0400],\n",
              "         [0.0600],\n",
              "         [0.0800],\n",
              "         [0.1000],\n",
              "         [0.1200],\n",
              "         [0.1400],\n",
              "         [0.1600],\n",
              "         [0.1800]]),\n",
              " tensor([[0.3000],\n",
              "         [0.3140],\n",
              "         [0.3280],\n",
              "         [0.3420],\n",
              "         [0.3560],\n",
              "         [0.3700],\n",
              "         [0.3840],\n",
              "         [0.3980],\n",
              "         [0.4120],\n",
              "         [0.4260]]))"
            ]
          },
          "metadata": {},
          "execution_count": 2
        }
      ]
    },
    {
      "cell_type": "code",
      "source": [
        "len(x),len(y)"
      ],
      "metadata": {
        "colab": {
          "base_uri": "https://localhost:8080/"
        },
        "id": "Kq3631U3hzb2",
        "outputId": "f4a9c701-3097-4dfc-adbc-4bd6eb7d2b5a"
      },
      "execution_count": 3,
      "outputs": [
        {
          "output_type": "execute_result",
          "data": {
            "text/plain": [
              "(50, 50)"
            ]
          },
          "metadata": {},
          "execution_count": 3
        }
      ]
    },
    {
      "cell_type": "markdown",
      "source": [
        "**Splitting data into training and testing sets**"
      ],
      "metadata": {
        "id": "xmVPYag9h4uC"
      }
    },
    {
      "cell_type": "code",
      "source": [
        "train_split=int(0.8*len(x))\n",
        "x_train,y_train=x[:train_split],y[:train_split]\n",
        "x_test,y_test=x[train_split:],y[train_split:]\n",
        "len(x_train),len(y_train),len(x_test),len(y_test)"
      ],
      "metadata": {
        "colab": {
          "base_uri": "https://localhost:8080/"
        },
        "id": "4DlBqkYxh3y0",
        "outputId": "b9fb4efb-98fd-453a-c475-26a130e0b837"
      },
      "execution_count": 4,
      "outputs": [
        {
          "output_type": "execute_result",
          "data": {
            "text/plain": [
              "(40, 40, 10, 10)"
            ]
          },
          "metadata": {},
          "execution_count": 4
        }
      ]
    },
    {
      "cell_type": "code",
      "source": [
        "x_train,y_train"
      ],
      "metadata": {
        "colab": {
          "base_uri": "https://localhost:8080/"
        },
        "id": "ayh_MrssiBys",
        "outputId": "35f02d0f-781f-44dc-a498-bfd2e7bec811"
      },
      "execution_count": 5,
      "outputs": [
        {
          "output_type": "execute_result",
          "data": {
            "text/plain": [
              "(tensor([[0.0000],\n",
              "         [0.0200],\n",
              "         [0.0400],\n",
              "         [0.0600],\n",
              "         [0.0800],\n",
              "         [0.1000],\n",
              "         [0.1200],\n",
              "         [0.1400],\n",
              "         [0.1600],\n",
              "         [0.1800],\n",
              "         [0.2000],\n",
              "         [0.2200],\n",
              "         [0.2400],\n",
              "         [0.2600],\n",
              "         [0.2800],\n",
              "         [0.3000],\n",
              "         [0.3200],\n",
              "         [0.3400],\n",
              "         [0.3600],\n",
              "         [0.3800],\n",
              "         [0.4000],\n",
              "         [0.4200],\n",
              "         [0.4400],\n",
              "         [0.4600],\n",
              "         [0.4800],\n",
              "         [0.5000],\n",
              "         [0.5200],\n",
              "         [0.5400],\n",
              "         [0.5600],\n",
              "         [0.5800],\n",
              "         [0.6000],\n",
              "         [0.6200],\n",
              "         [0.6400],\n",
              "         [0.6600],\n",
              "         [0.6800],\n",
              "         [0.7000],\n",
              "         [0.7200],\n",
              "         [0.7400],\n",
              "         [0.7600],\n",
              "         [0.7800]]),\n",
              " tensor([[0.3000],\n",
              "         [0.3140],\n",
              "         [0.3280],\n",
              "         [0.3420],\n",
              "         [0.3560],\n",
              "         [0.3700],\n",
              "         [0.3840],\n",
              "         [0.3980],\n",
              "         [0.4120],\n",
              "         [0.4260],\n",
              "         [0.4400],\n",
              "         [0.4540],\n",
              "         [0.4680],\n",
              "         [0.4820],\n",
              "         [0.4960],\n",
              "         [0.5100],\n",
              "         [0.5240],\n",
              "         [0.5380],\n",
              "         [0.5520],\n",
              "         [0.5660],\n",
              "         [0.5800],\n",
              "         [0.5940],\n",
              "         [0.6080],\n",
              "         [0.6220],\n",
              "         [0.6360],\n",
              "         [0.6500],\n",
              "         [0.6640],\n",
              "         [0.6780],\n",
              "         [0.6920],\n",
              "         [0.7060],\n",
              "         [0.7200],\n",
              "         [0.7340],\n",
              "         [0.7480],\n",
              "         [0.7620],\n",
              "         [0.7760],\n",
              "         [0.7900],\n",
              "         [0.8040],\n",
              "         [0.8180],\n",
              "         [0.8320],\n",
              "         [0.8460]]))"
            ]
          },
          "metadata": {},
          "execution_count": 5
        }
      ]
    },
    {
      "cell_type": "code",
      "source": [
        "def plot_predictions(train_data=x_train,\n",
        "                     train_labels=y_train,\n",
        "                     test_data=x_test,\n",
        "                     test_labels=y_test,\n",
        "                     predictions=None):\n",
        "  plt.figure(figsize=(10,7))\n",
        "  plt.scatter(train_data,train_labels,c=\"b\",s=4,label=\"Training data\")\n",
        "  plt.scatter(test_data,test_labels,c=\"g\",s=4,label=\"Training data\")\n",
        "  if predictions is not None:\n",
        "    plt.scatter(test_data,predictions,c=\"r\",s=4,label=\"Predictions\")\n",
        "plt.legend(prop={\"size\":14});"
      ],
      "metadata": {
        "colab": {
          "base_uri": "https://localhost:8080/",
          "height": 473
        },
        "id": "F5zRcC9FiEAe",
        "outputId": "7973afdd-80ba-4637-f2af-71222ee44d73"
      },
      "execution_count": 6,
      "outputs": [
        {
          "output_type": "stream",
          "name": "stderr",
          "text": [
            "WARNING:matplotlib.legend:No artists with labels found to put in legend.  Note that artists whose label start with an underscore are ignored when legend() is called with no argument.\n"
          ]
        },
        {
          "output_type": "display_data",
          "data": {
            "text/plain": [
              "<Figure size 640x480 with 1 Axes>"
            ],
            "image/png": "[encoded data removed]"
          },
          "metadata": {}
        }
      ]
    },
    {
      "cell_type": "code",
      "source": [
        "plot_predictions();"
      ],
      "metadata": {
        "colab": {
          "base_uri": "https://localhost:8080/",
          "height": 599
        },
        "id": "I4koEx9qiIAo",
        "outputId": "f7ac8235-45c8-4466-a171-7e32d28e8ee6"
      },
      "execution_count": 7,
      "outputs": [
        {
          "output_type": "display_data",
          "data": {
            "text/plain": [
              "<Figure size 1000x700 with 1 Axes>"
            ],
            "image/png": "[encoded data removed]"
          },
          "metadata": {}
        }
      ]
    },
    {
      "cell_type": "markdown",
      "source": [
        "**Build model**"
      ],
      "metadata": {
        "id": "4gEM1AhHiMpk"
      }
    },
    {
      "cell_type": "code",
      "source": [
        "from torch import nn\n",
        "class LinearRegressionModel(nn.Module):\n",
        "  def __init__(self):\n",
        "    super().__init__()\n",
        "    self.weights=nn.Parameter(torch.randn(1,\n",
        "                                          requires_grad=True,\n",
        "                                          dtype=torch.float))\n",
        "    self.bias=nn.Parameter(torch.randn(1,\n",
        "                                       requires_grad=True,\n",
        "                                       dtype=torch.float))\n",
        "  def forward(self,x:torch.Tensor)->torch.Tensor:\n",
        "    return self.weights*x+self.bias"
      ],
      "metadata": {
        "id": "1kGw_P5yiK8j"
      },
      "execution_count": 8,
      "outputs": []
    },
    {
      "cell_type": "code",
      "source": [
        "torch.randn(1)"
      ],
      "metadata": {
        "colab": {
          "base_uri": "https://localhost:8080/"
        },
        "id": "P7nVc0zeiRw0",
        "outputId": "86a6f331-f273-4605-d859-6b0737e0ec17"
      },
      "execution_count": 9,
      "outputs": [
        {
          "output_type": "execute_result",
          "data": {
            "text/plain": [
              "tensor([0.4386])"
            ]
          },
          "metadata": {},
          "execution_count": 9
        }
      ]
    },
    {
      "cell_type": "markdown",
      "source": [
        "**Pytorch model building essentials**"
      ],
      "metadata": {
        "id": "nOfBwvHIiaYg"
      }
    },
    {
      "cell_type": "markdown",
      "source": [
        "**Checking the contents of our pytorch model**"
      ],
      "metadata": {
        "id": "rOHKrR_wih0P"
      }
    },
    {
      "cell_type": "code",
      "source": [
        "torch.manual_seed(42)\n",
        "model_0=LinearRegressionModel()\n",
        "list(model_0.parameters())"
      ],
      "metadata": {
        "colab": {
          "base_uri": "https://localhost:8080/"
        },
        "id": "_q6zVLRMiY5w",
        "outputId": "6dc8422a-2ffa-4bf4-cfbc-61324ff54ac2"
      },
      "execution_count": 10,
      "outputs": [
        {
          "output_type": "execute_result",
          "data": {
            "text/plain": [
              "[Parameter containing:\n",
              " tensor([0.3367], requires_grad=True),\n",
              " Parameter containing:\n",
              " tensor([0.1288], requires_grad=True)]"
            ]
          },
          "metadata": {},
          "execution_count": 10
        }
      ]
    },
    {
      "cell_type": "code",
      "source": [
        "model_0.state_dict()"
      ],
      "metadata": {
        "colab": {
          "base_uri": "https://localhost:8080/"
        },
        "id": "YE9SOBemirty",
        "outputId": "2ea7b95e-ec09-44cf-a18c-fdb4d63122a3"
      },
      "execution_count": 11,
      "outputs": [
        {
          "output_type": "execute_result",
          "data": {
            "text/plain": [
              "OrderedDict([('weights', tensor([0.3367])), ('bias', tensor([0.1288]))])"
            ]
          },
          "metadata": {},
          "execution_count": 11
        }
      ]
    },
    {
      "cell_type": "code",
      "source": [
        "weight,bias"
      ],
      "metadata": {
        "colab": {
          "base_uri": "https://localhost:8080/"
        },
        "id": "22oySN_fiuBn",
        "outputId": "d69042ca-4b21-4998-f1de-9d7fad7bd2a1"
      },
      "execution_count": 12,
      "outputs": [
        {
          "output_type": "execute_result",
          "data": {
            "text/plain": [
              "(0.7, 0.3)"
            ]
          },
          "metadata": {},
          "execution_count": 12
        }
      ]
    },
    {
      "cell_type": "markdown",
      "source": [
        "**Making predictions using torch.inference_model()**"
      ],
      "metadata": {
        "id": "eZpbBawliwuy"
      }
    },
    {
      "cell_type": "code",
      "source": [
        "y_preds=model_0(x_test)\n",
        "y_preds"
      ],
      "metadata": {
        "colab": {
          "base_uri": "https://localhost:8080/"
        },
        "id": "64D7u4ymiv0k",
        "outputId": "00d964fb-a6ab-4703-da51-0b7c2199b954"
      },
      "execution_count": 13,
      "outputs": [
        {
          "output_type": "execute_result",
          "data": {
            "text/plain": [
              "tensor([[0.3982],\n",
              "        [0.4049],\n",
              "        [0.4116],\n",
              "        [0.4184],\n",
              "        [0.4251],\n",
              "        [0.4318],\n",
              "        [0.4386],\n",
              "        [0.4453],\n",
              "        [0.4520],\n",
              "        [0.4588]], grad_fn=<AddBackward0>)"
            ]
          },
          "metadata": {},
          "execution_count": 13
        }
      ]
    },
    {
      "cell_type": "code",
      "source": [
        "x_test,y_test"
      ],
      "metadata": {
        "colab": {
          "base_uri": "https://localhost:8080/"
        },
        "id": "8U4ect_xi9bV",
        "outputId": "6fce1115-138a-42da-e468-bf60a22acd88"
      },
      "execution_count": 14,
      "outputs": [
        {
          "output_type": "execute_result",
          "data": {
            "text/plain": [
              "(tensor([[0.8000],\n",
              "         [0.8200],\n",
              "         [0.8400],\n",
              "         [0.8600],\n",
              "         [0.8800],\n",
              "         [0.9000],\n",
              "         [0.9200],\n",
              "         [0.9400],\n",
              "         [0.9600],\n",
              "         [0.9800]]),\n",
              " tensor([[0.8600],\n",
              "         [0.8740],\n",
              "         [0.8880],\n",
              "         [0.9020],\n",
              "         [0.9160],\n",
              "         [0.9300],\n",
              "         [0.9440],\n",
              "         [0.9580],\n",
              "         [0.9720],\n",
              "         [0.9860]]))"
            ]
          },
          "metadata": {},
          "execution_count": 14
        }
      ]
    },
    {
      "cell_type": "code",
      "source": [
        "with torch.inference_mode():\n",
        "  y_preds=model_0(x_test)\n",
        "with torch.no_grad():\n",
        "  y_preds=model_0(x_test)\n",
        "y_preds"
      ],
      "metadata": {
        "colab": {
          "base_uri": "https://localhost:8080/"
        },
        "id": "0YdGYBpnj0-Q",
        "outputId": "fa725449-d397-4fd2-8d55-b1b07b58480b"
      },
      "execution_count": 15,
      "outputs": [
        {
          "output_type": "execute_result",
          "data": {
            "text/plain": [
              "tensor([[0.3982],\n",
              "        [0.4049],\n",
              "        [0.4116],\n",
              "        [0.4184],\n",
              "        [0.4251],\n",
              "        [0.4318],\n",
              "        [0.4386],\n",
              "        [0.4453],\n",
              "        [0.4520],\n",
              "        [0.4588]])"
            ]
          },
          "metadata": {},
          "execution_count": 15
        }
      ]
    },
    {
      "cell_type": "code",
      "source": [
        "y_test"
      ],
      "metadata": {
        "colab": {
          "base_uri": "https://localhost:8080/"
        },
        "id": "4FD3MPNtj3hE",
        "outputId": "48339b7e-88b6-467a-9fd7-e79d0ba930eb"
      },
      "execution_count": 16,
      "outputs": [
        {
          "output_type": "execute_result",
          "data": {
            "text/plain": [
              "tensor([[0.8600],\n",
              "        [0.8740],\n",
              "        [0.8880],\n",
              "        [0.9020],\n",
              "        [0.9160],\n",
              "        [0.9300],\n",
              "        [0.9440],\n",
              "        [0.9580],\n",
              "        [0.9720],\n",
              "        [0.9860]])"
            ]
          },
          "metadata": {},
          "execution_count": 16
        }
      ]
    },
    {
      "cell_type": "code",
      "source": [
        "plot_predictions(predictions=y_preds)"
      ],
      "metadata": {
        "colab": {
          "base_uri": "https://localhost:8080/",
          "height": 599
        },
        "id": "-2lpYooWj8r7",
        "outputId": "ba8a7605-6bd9-4692-bc75-65e778967b86"
      },
      "execution_count": 17,
      "outputs": [
        {
          "output_type": "display_data",
          "data": {
            "text/plain": [
              "<Figure size 1000x700 with 1 Axes>"
            ],
            "image/png": "[encoded data removed]"
          },
          "metadata": {}
        }
      ]
    },
    {
      "cell_type": "markdown",
      "source": [
        "**Train model**"
      ],
      "metadata": {
        "id": "_aSEPfjgkBLW"
      }
    },
    {
      "cell_type": "code",
      "source": [
        "list(model_0.parameters())"
      ],
      "metadata": {
        "colab": {
          "base_uri": "https://localhost:8080/"
        },
        "id": "PDTRajsjj-9n",
        "outputId": "dddeac44-75a0-4c14-eaa3-b3f056bee537"
      },
      "execution_count": 18,
      "outputs": [
        {
          "output_type": "execute_result",
          "data": {
            "text/plain": [
              "[Parameter containing:\n",
              " tensor([0.3367], requires_grad=True),\n",
              " Parameter containing:\n",
              " tensor([0.1288], requires_grad=True)]"
            ]
          },
          "metadata": {},
          "execution_count": 18
        }
      ]
    },
    {
      "cell_type": "code",
      "source": [
        "model_0.state_dict()"
      ],
      "metadata": {
        "colab": {
          "base_uri": "https://localhost:8080/"
        },
        "id": "ofNWX_InkFtW",
        "outputId": "19c00096-45b0-4ec1-8ad8-b8cd6697b7f8"
      },
      "execution_count": 19,
      "outputs": [
        {
          "output_type": "execute_result",
          "data": {
            "text/plain": [
              "OrderedDict([('weights', tensor([0.3367])), ('bias', tensor([0.1288]))])"
            ]
          },
          "metadata": {},
          "execution_count": 19
        }
      ]
    },
    {
      "cell_type": "code",
      "source": [
        "loss_fn=nn.L1Loss()\n",
        "optimizer=torch.optim.SGD(params=model_0.parameters(),\n",
        "                          lr=0.01)"
      ],
      "metadata": {
        "id": "1IP3Zir_kHkB"
      },
      "execution_count": 20,
      "outputs": []
    },
    {
      "cell_type": "code",
      "source": [
        "loss_fn"
      ],
      "metadata": {
        "colab": {
          "base_uri": "https://localhost:8080/"
        },
        "id": "AdR0xiV3kLJd",
        "outputId": "4bc29860-bc32-4f0b-c605-84c39f3232e8"
      },
      "execution_count": 21,
      "outputs": [
        {
          "output_type": "execute_result",
          "data": {
            "text/plain": [
              "L1Loss()"
            ]
          },
          "metadata": {},
          "execution_count": 21
        }
      ]
    },
    {
      "cell_type": "markdown",
      "source": [
        "**Building a training loop in pytorch**"
      ],
      "metadata": {
        "id": "6nuH5Gqjkmvk"
      }
    },
    {
      "cell_type": "code",
      "source": [
        "with torch.no_grad():\n",
        "  list(model_0.parameters())"
      ],
      "metadata": {
        "id": "vDZQQTWqkxyJ"
      },
      "execution_count": 22,
      "outputs": []
    },
    {
      "cell_type": "code",
      "source": [
        "list(model_0.parameters())"
      ],
      "metadata": {
        "colab": {
          "base_uri": "https://localhost:8080/"
        },
        "id": "CEo1izHh7T2L",
        "outputId": "fe242f40-9e4b-4d37-e583-26b5c158e27b"
      },
      "execution_count": 23,
      "outputs": [
        {
          "output_type": "execute_result",
          "data": {
            "text/plain": [
              "[Parameter containing:\n",
              " tensor([0.3367], requires_grad=True),\n",
              " Parameter containing:\n",
              " tensor([0.1288], requires_grad=True)]"
            ]
          },
          "metadata": {},
          "execution_count": 23
        }
      ]
    },
    {
      "cell_type": "code",
      "source": [
        "torch.manual_seed(42)\n",
        "epochs=200\n",
        "epoch_count=[]\n",
        "loss_values=[]\n",
        "test_loss_values=[]\n",
        "##training\n",
        "for epoch in range(epochs):\n",
        "  #set the model to training mode\n",
        "  model_0.train()#train mode in pytorch sets all parameters that require gradients to require gradients\n",
        "  #1.forward pass\n",
        "  y_pred=model_0(x_train)\n",
        "  #2.calculate the loss\n",
        "  loss=loss_fn(y_pred,y_train)\n",
        "  print(f\"Loss:{loss}\")\n",
        "  #3.optimizer zero grad\n",
        "  optimizer.zero_grad()\n",
        "  #4.perform backwardpropogation on the loss with respect to the parameters of the model(calculate the gradients of each parameter)\n",
        "  loss.backward()\n",
        "  #5.step the optimizer(perform )\n",
        "  optimizer.step()\n",
        "  ##testing\n",
        "  model_0.eval()#turns off different setting in the model not needed for evalution/testing\n",
        "  with torch.inference_mode():\n",
        "    #with torch.no_grad():\n",
        "    #1.do the forward pass\n",
        "    test_pred=model_0(x_test)\n",
        "    #2.calculate the loss\n",
        "    test_loss=loss_fn(test_pred,y_test)\n",
        "  if epoch%10==0:\n",
        "    epoch_count.append(epoch)\n",
        "    loss_values.append(loss)\n",
        "    test_loss_values.append(test_loss)\n",
        "    #print out model state_dict()\n",
        "    print(f\"Epoch:{epoch}|Loss:{loss}|Test loss:{test_loss}\")\n",
        "    print(model_0.state_dict())"
      ],
      "metadata": {
        "colab": {
          "base_uri": "https://localhost:8080/"
        },
        "id": "eU1uwtp7kz3f",
        "outputId": "c1ae6aaa-a9a5-4e4c-a353-79f1268c7ba6"
      },
      "execution_count": 24,
      "outputs": [
        {
          "output_type": "stream",
          "name": "stdout",
          "text": [
            "Loss:0.31288138031959534\n",
            "Epoch:0|Loss:0.31288138031959534|Test loss:0.48106518387794495\n",
            "OrderedDict([('weights', tensor([0.3406])), ('bias', tensor([0.1388]))])\n",
            "Loss:0.3013603389263153\n",
            "Loss:0.28983935713768005\n",
            "Loss:0.2783183455467224\n",
            "Loss:0.26679736375808716\n",
            "Loss:0.2552763521671295\n",
            "Loss:0.24375534057617188\n",
            "Loss:0.23223432898521423\n",
            "Loss:0.22071333229541779\n",
            "Loss:0.20919232070446014\n",
            "Loss:0.1976713240146637\n",
            "Epoch:10|Loss:0.1976713240146637|Test loss:0.3463551998138428\n",
            "OrderedDict([('weights', tensor([0.3796])), ('bias', tensor([0.2388]))])\n",
            "Loss:0.18615034222602844\n",
            "Loss:0.1746293306350708\n",
            "Loss:0.16310831904411316\n",
            "Loss:0.1515873372554779\n",
            "Loss:0.14006635546684265\n",
            "Loss:0.1285453587770462\n",
            "Loss:0.11702437698841095\n",
            "Loss:0.1060912236571312\n",
            "Loss:0.09681284427642822\n",
            "Loss:0.08908725529909134\n",
            "Epoch:20|Loss:0.08908725529909134|Test loss:0.21729660034179688\n",
            "OrderedDict([('weights', tensor([0.4184])), ('bias', tensor([0.3333]))])\n",
            "Loss:0.08227583020925522\n",
            "Loss:0.07638873159885406\n",
            "Loss:0.07160007208585739\n",
            "Loss:0.06747635453939438\n",
            "Loss:0.06395438313484192\n",
            "Loss:0.06097004935145378\n",
            "Loss:0.05845819041132927\n",
            "Loss:0.05635259300470352\n",
            "Loss:0.0545857772231102\n",
            "Loss:0.053148526698350906\n",
            "Epoch:30|Loss:0.053148526698350906|Test loss:0.14464017748832703\n",
            "OrderedDict([('weights', tensor([0.4512])), ('bias', tensor([0.3768]))])\n",
            "Loss:0.05181945487856865\n",
            "Loss:0.05069301277399063\n",
            "Loss:0.0498228520154953\n",
            "Loss:0.04895269125699997\n",
            "Loss:0.04819351062178612\n",
            "Loss:0.047531817108392715\n",
            "Loss:0.04692792519927025\n",
            "Loss:0.04642331600189209\n",
            "Loss:0.04591871052980423\n",
            "Loss:0.04543796554207802\n",
            "Epoch:40|Loss:0.04543796554207802|Test loss:0.11360953003168106\n",
            "OrderedDict([('weights', tensor([0.4748])), ('bias', tensor([0.3868]))])\n",
            "Loss:0.04503796249628067\n",
            "Loss:0.04463795945048332\n",
            "Loss:0.04423796385526657\n",
            "Loss:0.04383796453475952\n",
            "Loss:0.04343796148896217\n",
            "Loss:0.043074630200862885\n",
            "Loss:0.04272563382983208\n",
            "Loss:0.04237663000822067\n",
            "Loss:0.04202762991189957\n",
            "Loss:0.04167863354086876\n",
            "Epoch:50|Loss:0.04167863354086876|Test loss:0.09919948130846024\n",
            "OrderedDict([('weights', tensor([0.4938])), ('bias', tensor([0.3843]))])\n",
            "Loss:0.04132963344454765\n",
            "Loss:0.04098063334822655\n",
            "Loss:0.04063162952661514\n",
            "Loss:0.040282636880874634\n",
            "Loss:0.039933640509843826\n",
            "Loss:0.03958464413881302\n",
            "Loss:0.03923564404249191\n",
            "Loss:0.03888664394617081\n",
            "Loss:0.0385376438498497\n",
            "Loss:0.03818932920694351\n",
            "Epoch:60|Loss:0.03818932920694351|Test loss:0.08886633068323135\n",
            "OrderedDict([('weights', tensor([0.5116])), ('bias', tensor([0.3788]))])\n",
            "Loss:0.03785243630409241\n",
            "Loss:0.0375034399330616\n",
            "Loss:0.037164121866226196\n",
            "Loss:0.03681822493672371\n",
            "Loss:0.03647511452436447\n",
            "Loss:0.03613303601741791\n",
            "Loss:0.03578609973192215\n",
            "Loss:0.03544783592224121\n",
            "Loss:0.035098835825920105\n",
            "Loss:0.03476089984178543\n",
            "Epoch:70|Loss:0.03476089984178543|Test loss:0.0805937647819519\n",
            "OrderedDict([('weights', tensor([0.5288])), ('bias', tensor([0.3718]))])\n",
            "Loss:0.03441363573074341\n",
            "Loss:0.03407188132405281\n",
            "Loss:0.03372843936085701\n",
            "Loss:0.03338287025690079\n",
            "Loss:0.033043231815099716\n",
            "Loss:0.03269423171877861\n",
            "Loss:0.032357655465602875\n",
            "Loss:0.03200903534889221\n",
            "Loss:0.03166864812374115\n",
            "Loss:0.03132382780313492\n",
            "Epoch:80|Loss:0.03132382780313492|Test loss:0.07232122868299484\n",
            "OrderedDict([('weights', tensor([0.5459])), ('bias', tensor([0.3648]))])\n",
            "Loss:0.030979642644524574\n",
            "Loss:0.030638623982667923\n",
            "Loss:0.0302906334400177\n",
            "Loss:0.029953425750136375\n",
            "Loss:0.02960442565381527\n",
            "Loss:0.029265418648719788\n",
            "Loss:0.028919223695993423\n",
            "Loss:0.028576409444212914\n",
            "Loss:0.028234025463461876\n",
            "Loss:0.02788739837706089\n",
            "Epoch:90|Loss:0.02788739837706089|Test loss:0.06473556160926819\n",
            "OrderedDict([('weights', tensor([0.5629])), ('bias', tensor([0.3573]))])\n",
            "Loss:0.02754882536828518\n",
            "Loss:0.027199819684028625\n",
            "Loss:0.026862185448408127\n",
            "Loss:0.02651461586356163\n",
            "Loss:0.026173178106546402\n",
            "Loss:0.025829419493675232\n",
            "Loss:0.02548416517674923\n",
            "Loss:0.025144213810563087\n",
            "Loss:0.02479521557688713\n",
            "Loss:0.024458957836031914\n",
            "Epoch:100|Loss:0.024458957836031914|Test loss:0.05646304413676262\n",
            "OrderedDict([('weights', tensor([0.5800])), ('bias', tensor([0.3503]))])\n",
            "Loss:0.024110013619065285\n",
            "Loss:0.02376994863152504\n",
            "Loss:0.02342480979859829\n",
            "Loss:0.023080935701727867\n",
            "Loss:0.022739607840776443\n",
            "Loss:0.022391926497220993\n",
            "Loss:0.022054409608244896\n",
            "Loss:0.02170540764927864\n",
            "Loss:0.021366719156503677\n",
            "Loss:0.021020207554101944\n",
            "Epoch:110|Loss:0.021020207554101944|Test loss:0.04819049686193466\n",
            "OrderedDict([('weights', tensor([0.5972])), ('bias', tensor([0.3433]))])\n",
            "Loss:0.020677709951996803\n",
            "Loss:0.02033500373363495\n",
            "Loss:0.01998869702219963\n",
            "Loss:0.019649803638458252\n",
            "Loss:0.019300809130072594\n",
            "Loss:0.018963487818837166\n",
            "Loss:0.01861560344696045\n",
            "Loss:0.018274478614330292\n",
            "Loss:0.017930403351783752\n",
            "Loss:0.01758546568453312\n",
            "Epoch:120|Loss:0.01758546568453312|Test loss:0.04060482233762741\n",
            "OrderedDict([('weights', tensor([0.6141])), ('bias', tensor([0.3358]))])\n",
            "Loss:0.017245199531316757\n",
            "Loss:0.016896454617381096\n",
            "Loss:0.01656000316143036\n",
            "Loss:0.016210997477173805\n",
            "Loss:0.01587124727666378\n",
            "Loss:0.015525798313319683\n",
            "Loss:0.015182236209511757\n",
            "Loss:0.014840595424175262\n",
            "Loss:0.01449323259294033\n",
            "Loss:0.014155393466353416\n",
            "Epoch:130|Loss:0.014155393466353416|Test loss:0.03233227878808975\n",
            "OrderedDict([('weights', tensor([0.6313])), ('bias', tensor([0.3288]))])\n",
            "Loss:0.013806397095322609\n",
            "Loss:0.013468016870319843\n",
            "Loss:0.013121193274855614\n",
            "Loss:0.01277900766581297\n",
            "Loss:0.012435992248356342\n",
            "Loss:0.01208999752998352\n",
            "Loss:0.011750795878469944\n",
            "Loss:0.011401787400245667\n",
            "Loss:0.011064787395298481\n",
            "Loss:0.010716589167714119\n",
            "Epoch:140|Loss:0.010716589167714119|Test loss:0.024059748277068138\n",
            "OrderedDict([('weights', tensor([0.6485])), ('bias', tensor([0.3218]))])\n",
            "Loss:0.010375778190791607\n",
            "Loss:0.010031387209892273\n",
            "Loss:0.009686763398349285\n",
            "Loss:0.009346187114715576\n",
            "Loss:0.008997755125164986\n",
            "Loss:0.008660981431603432\n",
            "Loss:0.008311985060572624\n",
            "Loss:0.007972544990479946\n",
            "Loss:0.007626785431057215\n",
            "Loss:0.0072835334576666355\n",
            "Epoch:150|Loss:0.0072835334576666355|Test loss:0.016474086791276932\n",
            "OrderedDict([('weights', tensor([0.6654])), ('bias', tensor([0.3143]))])\n",
            "Loss:0.006941580679267645\n",
            "Loss:0.006594526115804911\n",
            "Loss:0.006256377790123224\n",
            "Loss:0.005907376762479544\n",
            "Loss:0.005569315515458584\n",
            "Loss:0.005222178064286709\n",
            "Loss:0.004880306776612997\n",
            "Loss:0.004536976106464863\n",
            "Loss:0.00419129803776741\n",
            "Loss:0.0038517764769494534\n",
            "Epoch:160|Loss:0.0038517764769494534|Test loss:0.008201557211577892\n",
            "OrderedDict([('weights', tensor([0.6826])), ('bias', tensor([0.3073]))])\n",
            "Loss:0.0035027749836444855\n",
            "Loss:0.0031660839449614286\n",
            "Loss:0.002817571861669421\n",
            "Loss:0.0024770735763013363\n",
            "Loss:0.0021323717664927244\n",
            "Loss:0.0017880648374557495\n",
            "Loss:0.0014518328243866563\n",
            "Loss:0.0011887758737429976\n",
            "Loss:0.0025885067880153656\n",
            "Loss:0.008932482451200485\n",
            "Epoch:170|Loss:0.008932482451200485|Test loss:0.005023092031478882\n",
            "OrderedDict([('weights', tensor([0.6951])), ('bias', tensor([0.2993]))])\n",
            "Loss:0.0025885067880153656\n",
            "Loss:0.008932482451200485\n",
            "Loss:0.0025885067880153656\n",
            "Loss:0.008932482451200485\n",
            "Loss:0.0025885067880153656\n",
            "Loss:0.008932482451200485\n",
            "Loss:0.0025885067880153656\n",
            "Loss:0.008932482451200485\n",
            "Loss:0.0025885067880153656\n",
            "Loss:0.008932482451200485\n",
            "Epoch:180|Loss:0.008932482451200485|Test loss:0.005023092031478882\n",
            "OrderedDict([('weights', tensor([0.6951])), ('bias', tensor([0.2993]))])\n",
            "Loss:0.0025885067880153656\n",
            "Loss:0.008932482451200485\n",
            "Loss:0.0025885067880153656\n",
            "Loss:0.008932482451200485\n",
            "Loss:0.0025885067880153656\n",
            "Loss:0.008932482451200485\n",
            "Loss:0.0025885067880153656\n",
            "Loss:0.008932482451200485\n",
            "Loss:0.0025885067880153656\n",
            "Loss:0.008932482451200485\n",
            "Epoch:190|Loss:0.008932482451200485|Test loss:0.005023092031478882\n",
            "OrderedDict([('weights', tensor([0.6951])), ('bias', tensor([0.2993]))])\n",
            "Loss:0.0025885067880153656\n",
            "Loss:0.008932482451200485\n",
            "Loss:0.0025885067880153656\n",
            "Loss:0.008932482451200485\n",
            "Loss:0.0025885067880153656\n",
            "Loss:0.008932482451200485\n",
            "Loss:0.0025885067880153656\n",
            "Loss:0.008932482451200485\n",
            "Loss:0.0025885067880153656\n"
          ]
        }
      ]
    },
    {
      "cell_type": "code",
      "source": [
        "import numpy as np\n",
        "np.array(torch.tensor(loss_values).cpu().numpy()),test_loss_values"
      ],
      "metadata": {
        "colab": {
          "base_uri": "https://localhost:8080/"
        },
        "id": "BEyK1u5S4kil",
        "outputId": "7dc5fbe1-1b03-4e28-f5ca-259504d61cb0"
      },
      "execution_count": 25,
      "outputs": [
        {
          "output_type": "execute_result",
          "data": {
            "text/plain": [
              "(array([0.31288138, 0.19767132, 0.08908726, 0.05314853, 0.04543797,\n",
              "        0.04167863, 0.03818933, 0.0347609 , 0.03132383, 0.0278874 ,\n",
              "        0.02445896, 0.02102021, 0.01758547, 0.01415539, 0.01071659,\n",
              "        0.00728353, 0.00385178, 0.00893248, 0.00893248, 0.00893248],\n",
              "       dtype=float32),\n",
              " [tensor(0.4811),\n",
              "  tensor(0.3464),\n",
              "  tensor(0.2173),\n",
              "  tensor(0.1446),\n",
              "  tensor(0.1136),\n",
              "  tensor(0.0992),\n",
              "  tensor(0.0889),\n",
              "  tensor(0.0806),\n",
              "  tensor(0.0723),\n",
              "  tensor(0.0647),\n",
              "  tensor(0.0565),\n",
              "  tensor(0.0482),\n",
              "  tensor(0.0406),\n",
              "  tensor(0.0323),\n",
              "  tensor(0.0241),\n",
              "  tensor(0.0165),\n",
              "  tensor(0.0082),\n",
              "  tensor(0.0050),\n",
              "  tensor(0.0050),\n",
              "  tensor(0.0050)])"
            ]
          },
          "metadata": {},
          "execution_count": 25
        }
      ]
    },
    {
      "cell_type": "code",
      "source": [
        "plt.plot(epoch_count,np.array(torch.tensor(loss_values).numpy()),label=\"Train loss\")\n",
        "plt.plot(epoch_count,test_loss_values,label=\"Test loss\")\n",
        "plt.title(\"Training and test loss curves\")\n",
        "plt.ylabel(\"loss\")\n",
        "plt.xlabel(\"epochs\")\n",
        "plt.legend();"
      ],
      "metadata": {
        "colab": {
          "base_uri": "https://localhost:8080/",
          "height": 472
        },
        "id": "fQeqaLQw3HVx",
        "outputId": "879d046d-82b2-40e5-a29d-1058f1c0eb8e"
      },
      "execution_count": 26,
      "outputs": [
        {
          "output_type": "display_data",
          "data": {
            "text/plain": [
              "<Figure size 640x480 with 1 Axes>"
            ],
            "image/png": "[encoded data removed]"
          },
          "metadata": {}
        }
      ]
    },
    {
      "cell_type": "code",
      "source": [
        "with torch.inference_mode():\n",
        "  y_preds_new=model_0(x_test)"
      ],
      "metadata": {
        "id": "mczpyCcpm2Gp"
      },
      "execution_count": 27,
      "outputs": []
    },
    {
      "cell_type": "code",
      "source": [
        "model_0.state_dict()"
      ],
      "metadata": {
        "colab": {
          "base_uri": "https://localhost:8080/"
        },
        "id": "QZ5ybiaqmFZG",
        "outputId": "e122a156-5eba-4c98-f12b-6481de1e5aba"
      },
      "execution_count": 28,
      "outputs": [
        {
          "output_type": "execute_result",
          "data": {
            "text/plain": [
              "OrderedDict([('weights', tensor([0.6990])), ('bias', tensor([0.3093]))])"
            ]
          },
          "metadata": {},
          "execution_count": 28
        }
      ]
    },
    {
      "cell_type": "code",
      "source": [
        "weight,bias"
      ],
      "metadata": {
        "colab": {
          "base_uri": "https://localhost:8080/"
        },
        "id": "EFIZ9zY1mGzl",
        "outputId": "d7cefaa8-eeaa-4379-dbbd-d1af51a73d1b"
      },
      "execution_count": 29,
      "outputs": [
        {
          "output_type": "execute_result",
          "data": {
            "text/plain": [
              "(0.7, 0.3)"
            ]
          },
          "metadata": {},
          "execution_count": 29
        }
      ]
    },
    {
      "cell_type": "code",
      "source": [
        "plot_predictions(predictions=y_preds);"
      ],
      "metadata": {
        "id": "ohstQCipmk9Q",
        "colab": {
          "base_uri": "https://localhost:8080/",
          "height": 599
        },
        "outputId": "1dbeefb2-27e1-4811-a388-3499fe322f8e"
      },
      "execution_count": 30,
      "outputs": [
        {
          "output_type": "display_data",
          "data": {
            "text/plain": [
              "<Figure size 1000x700 with 1 Axes>"
            ],
            "image/png": "[encoded data removed]"
          },
          "metadata": {}
        }
      ]
    },
    {
      "cell_type": "code",
      "source": [
        "plot_predictions(predictions=y_preds_new);"
      ],
      "metadata": {
        "colab": {
          "base_uri": "https://localhost:8080/",
          "height": 599
        },
        "id": "8A_3fw1_q0PS",
        "outputId": "d9190af9-d60c-4046-8370-8fc9d2b64916"
      },
      "execution_count": 31,
      "outputs": [
        {
          "output_type": "display_data",
          "data": {
            "text/plain": [
              "<Figure size 1000x700 with 1 Axes>"
            ],
            "image/png": "[encoded data removed]"
          },
          "metadata": {}
        }
      ]
    },
    {
      "cell_type": "markdown",
      "source": [
        "**Saving a model in pytorch**"
      ],
      "metadata": {
        "id": "ln9tu1cN9abb"
      }
    },
    {
      "cell_type": "code",
      "source": [
        "model_0.state_dict()"
      ],
      "metadata": {
        "colab": {
          "base_uri": "https://localhost:8080/"
        },
        "id": "_T88T1PDrISF",
        "outputId": "6c5324f8-a3cf-47e0-babd-f8cc6d65f14c"
      },
      "execution_count": 32,
      "outputs": [
        {
          "output_type": "execute_result",
          "data": {
            "text/plain": [
              "OrderedDict([('weights', tensor([0.6990])), ('bias', tensor([0.3093]))])"
            ]
          },
          "metadata": {},
          "execution_count": 32
        }
      ]
    },
    {
      "cell_type": "code",
      "source": [
        "from pathlib import Path\n",
        "MODEL_PATH=Path(\"models\")\n",
        "MODEL_PATH.mkdir(parents=True,exist_ok=True)\n",
        "MODEL_NAME=\"01_pytorch_workflow_model_0.pth\"\n",
        "MODEL_SAVE_PATH=MODEL_PATH/MODEL_NAME\n",
        "print(f\"Saving model to:{MODEL_SAVE_PATH}\")\n",
        "torch.save(obj=model_0.state_dict(),\n",
        "           f=MODEL_SAVE_PATH)"
      ],
      "metadata": {
        "colab": {
          "base_uri": "https://localhost:8080/"
        },
        "id": "S9p2Qfv69q-3",
        "outputId": "0eaf5c44-9bc6-44dc-f3de-8a2e06f96393"
      },
      "execution_count": 33,
      "outputs": [
        {
          "output_type": "stream",
          "name": "stdout",
          "text": [
            "Saving model to:models/01_pytorch_workflow_model_0.pth\n"
          ]
        }
      ]
    },
    {
      "cell_type": "code",
      "source": [
        "!ls -l models"
      ],
      "metadata": {
        "id": "LJFnPZ_GDxZG",
        "outputId": "385b656c-f2be-4713-b271-3c8f90c7fd5a",
        "colab": {
          "base_uri": "https://localhost:8080/"
        }
      },
      "execution_count": 34,
      "outputs": [
        {
          "output_type": "stream",
          "name": "stdout",
          "text": [
            "total 4\n",
            "-rw-r--r-- 1 root root 1680 Feb 13 12:10 01_pytorch_workflow_model_0.pth\n"
          ]
        }
      ]
    },
    {
      "cell_type": "markdown",
      "source": [
        "**Loading a pytorch model ***"
      ],
      "metadata": {
        "id": "0ur5X-QqEewH"
      }
    },
    {
      "cell_type": "code",
      "source": [
        "model_0.state_dict()"
      ],
      "metadata": {
        "id": "WgDV7ZjiEN6e",
        "outputId": "1d9dbf15-bf5f-437d-d2b2-fd2f92c96b13",
        "colab": {
          "base_uri": "https://localhost:8080/"
        }
      },
      "execution_count": 35,
      "outputs": [
        {
          "output_type": "execute_result",
          "data": {
            "text/plain": [
              "OrderedDict([('weights', tensor([0.6990])), ('bias', tensor([0.3093]))])"
            ]
          },
          "metadata": {},
          "execution_count": 35
        }
      ]
    },
    {
      "cell_type": "code",
      "source": [
        "loaded_model_0=LinearRegressionModel()\n",
        "loaded_model_0.load_state_dict(torch.load(f=MODEL_SAVE_PATH))"
      ],
      "metadata": {
        "id": "m9F1N9xQEx-G",
        "outputId": "efef1a7e-1ece-451f-bdba-a9b492dd021e",
        "colab": {
          "base_uri": "https://localhost:8080/"
        }
      },
      "execution_count": 36,
      "outputs": [
        {
          "output_type": "execute_result",
          "data": {
            "text/plain": [
              "<All keys matched successfully>"
            ]
          },
          "metadata": {},
          "execution_count": 36
        }
      ]
    },
    {
      "cell_type": "code",
      "source": [
        "loaded_model_0.state_dict()"
      ],
      "metadata": {
        "id": "hzkzO_H-E44H",
        "outputId": "7a9091ee-48fd-4357-da11-dd262e94af65",
        "colab": {
          "base_uri": "https://localhost:8080/"
        }
      },
      "execution_count": 37,
      "outputs": [
        {
          "output_type": "execute_result",
          "data": {
            "text/plain": [
              "OrderedDict([('weights', tensor([0.6990])), ('bias', tensor([0.3093]))])"
            ]
          },
          "metadata": {},
          "execution_count": 37
        }
      ]
    },
    {
      "cell_type": "code",
      "source": [
        "#make some predictions with our loaded model\n",
        "loaded_model_0.eval()\n",
        "with torch.inference_mode():\n",
        "  loaded_model_preds=loaded_model_0(x_test)\n",
        "loaded_model_preds\n"
      ],
      "metadata": {
        "id": "y08n9lJBFUwY",
        "outputId": "e144fb68-9709-4249-c047-1794ad381a90",
        "colab": {
          "base_uri": "https://localhost:8080/"
        }
      },
      "execution_count": 38,
      "outputs": [
        {
          "output_type": "execute_result",
          "data": {
            "text/plain": [
              "tensor([[0.8685],\n",
              "        [0.8825],\n",
              "        [0.8965],\n",
              "        [0.9105],\n",
              "        [0.9245],\n",
              "        [0.9384],\n",
              "        [0.9524],\n",
              "        [0.9664],\n",
              "        [0.9804],\n",
              "        [0.9944]])"
            ]
          },
          "metadata": {},
          "execution_count": 38
        }
      ]
    },
    {
      "cell_type": "code",
      "source": [
        "#make some models preds\n",
        "model_0.eval()\n",
        "with torch.inference_mode():\n",
        "  y_preds=model_0(x_test)\n",
        "y_preds"
      ],
      "metadata": {
        "id": "RKsOKVYiGRNx",
        "outputId": "7f61aa49-78de-4920-bda0-3fdd1f2ea6bd",
        "colab": {
          "base_uri": "https://localhost:8080/"
        }
      },
      "execution_count": 39,
      "outputs": [
        {
          "output_type": "execute_result",
          "data": {
            "text/plain": [
              "tensor([[0.8685],\n",
              "        [0.8825],\n",
              "        [0.8965],\n",
              "        [0.9105],\n",
              "        [0.9245],\n",
              "        [0.9384],\n",
              "        [0.9524],\n",
              "        [0.9664],\n",
              "        [0.9804],\n",
              "        [0.9944]])"
            ]
          },
          "metadata": {},
          "execution_count": 39
        }
      ]
    },
    {
      "cell_type": "code",
      "source": [
        "#compare loaded model preds with original model preds\n",
        "y_preds==loaded_model_preds"
      ],
      "metadata": {
        "id": "XfLvA-FKFqWs",
        "outputId": "179307ce-3845-4701-d179-3451a3f75d51",
        "colab": {
          "base_uri": "https://localhost:8080/"
        }
      },
      "execution_count": 40,
      "outputs": [
        {
          "output_type": "execute_result",
          "data": {
            "text/plain": [
              "tensor([[True],\n",
              "        [True],\n",
              "        [True],\n",
              "        [True],\n",
              "        [True],\n",
              "        [True],\n",
              "        [True],\n",
              "        [True],\n",
              "        [True],\n",
              "        [True]])"
            ]
          },
          "metadata": {},
          "execution_count": 40
        }
      ]
    },
    {
      "cell_type": "markdown",
      "source": [
        "**Putting it all together**"
      ],
      "metadata": {
        "id": "gdjB5dLgGmnP"
      }
    },
    {
      "cell_type": "code",
      "source": [
        "#import PyTorch and matplotlib\n",
        "import torch\n",
        "from torch import nn\n",
        "import matplotlib.pyplot as plt\n",
        "\n",
        "#check Pytorch version\n",
        "torch.__version__"
      ],
      "metadata": {
        "id": "5mX3lDZ0F1s-",
        "outputId": "e4f037b6-88b9-4cf0-b2bd-76a88bc2a27e",
        "colab": {
          "base_uri": "https://localhost:8080/",
          "height": 36
        }
      },
      "execution_count": 41,
      "outputs": [
        {
          "output_type": "execute_result",
          "data": {
            "text/plain": [
              "'2.1.0+cu121'"
            ],
            "application/vnd.google.colaboratory.intrinsic+json": {
              "type": "string"
            }
          },
          "metadata": {},
          "execution_count": 41
        }
      ]
    },
    {
      "cell_type": "markdown",
      "source": [
        "create device-agnostic code\n",
        "\n",
        "This means if we have got access to a GPU,our code will use it\n",
        "\n",
        "\n",
        "if no GPU is available,the code will default to using CPU"
      ],
      "metadata": {
        "id": "hWVBNMiHHUr2"
      }
    },
    {
      "cell_type": "code",
      "source": [
        "#setup device agnostic code\n",
        "device=\"cuda\" if torch.cuda.is_available() else \"cpu\"\n",
        "print(f\"Using device:{device}\")"
      ],
      "metadata": {
        "id": "S0ejlJvvHNTG",
        "outputId": "99c8a957-a277-4f9c-b5d9-e7f2e4442161",
        "colab": {
          "base_uri": "https://localhost:8080/"
        }
      },
      "execution_count": 43,
      "outputs": [
        {
          "output_type": "stream",
          "name": "stdout",
          "text": [
            "Using device:cpu\n"
          ]
        }
      ]
    },
    {
      "cell_type": "markdown",
      "source": [
        "**6.1 Data**"
      ],
      "metadata": {
        "id": "Vg1gA2A2Ye9a"
      }
    },
    {
      "cell_type": "code",
      "source": [
        "#create some data using the linear regression formula of y=weight*x+bias\n",
        "weight=0.7\n",
        "bias=0.3\n",
        "start=0\n",
        "end=1\n",
        "step=0.02\n",
        "x=torch.arange(start,end,step).unsqueeze(dim=1)\n",
        "y=weight*x+bias\n",
        "x[:10],y[:10]"
      ],
      "metadata": {
        "id": "MFLudmLdYdwz",
        "outputId": "8b81f099-4112-44c7-c309-735ea0d607c9",
        "colab": {
          "base_uri": "https://localhost:8080/"
        }
      },
      "execution_count": 44,
      "outputs": [
        {
          "output_type": "execute_result",
          "data": {
            "text/plain": [
              "(tensor([[0.0000],\n",
              "         [0.0200],\n",
              "         [0.0400],\n",
              "         [0.0600],\n",
              "         [0.0800],\n",
              "         [0.1000],\n",
              "         [0.1200],\n",
              "         [0.1400],\n",
              "         [0.1600],\n",
              "         [0.1800]]),\n",
              " tensor([[0.3000],\n",
              "         [0.3140],\n",
              "         [0.3280],\n",
              "         [0.3420],\n",
              "         [0.3560],\n",
              "         [0.3700],\n",
              "         [0.3840],\n",
              "         [0.3980],\n",
              "         [0.4120],\n",
              "         [0.4260]]))"
            ]
          },
          "metadata": {},
          "execution_count": 44
        }
      ]
    },
    {
      "cell_type": "code",
      "source": [
        "#split data\n",
        "train_split=int(0.8*len(x))\n",
        "x_train,y_train=x[:train_split],y[:train_split]\n",
        "x_test,y_test=x[train_split:],y[train_split:]\n",
        "len(x_train),len(y_train),len(x_test),len(y_test)\n"
      ],
      "metadata": {
        "id": "QAu5a_wYZEe-",
        "outputId": "46614d60-7270-4869-e3f5-1829e878aab3",
        "colab": {
          "base_uri": "https://localhost:8080/"
        }
      },
      "execution_count": 45,
      "outputs": [
        {
          "output_type": "execute_result",
          "data": {
            "text/plain": [
              "(40, 40, 10, 10)"
            ]
          },
          "metadata": {},
          "execution_count": 45
        }
      ]
    },
    {
      "cell_type": "code",
      "source": [
        "#plot the data\n",
        "plot_predictions(x_train,y_train,x_test,y_test)"
      ],
      "metadata": {
        "id": "F7P3dpAGZfxa",
        "outputId": "b3e881c8-a314-4e6a-d6bb-0288703d19b8",
        "colab": {
          "base_uri": "https://localhost:8080/",
          "height": 599
        }
      },
      "execution_count": 47,
      "outputs": [
        {
          "output_type": "display_data",
          "data": {
            "text/plain": [
              "<Figure size 1000x700 with 1 Axes>"
            ],
            "image/png": "[encoded data removed]"
          },
          "metadata": {}
        }
      ]
    },
    {
      "cell_type": "markdown",
      "source": [
        "**6.2 Building a Pytorch linear model**"
      ],
      "metadata": {
        "id": "FDN88ljaZ28p"
      }
    },
    {
      "cell_type": "code",
      "source": [
        "#create a linear model by subclassing nn.module\n",
        "class LinearRegressionModelV2(nn.Module):\n",
        "  def __init__(self):\n",
        "    super().__init__()\n",
        "    #use nn.Linear for creating the model parameter\n",
        "    self.linear_layer=nn.Linear(in_features=1,\n",
        "                                out_features=1)\n",
        "  def forward(self,x:torch.Tensor)->torch.Tensor:\n",
        "    return self.linear_layer(x)\n",
        "#set the manual seed\n",
        "torch.manual_seed(42)\n",
        "model_1=LinearRegressionModelV2()\n",
        "model_1,model_1.state_dict()"
      ],
      "metadata": {
        "id": "PyPB1GVUZscZ",
        "outputId": "31ac091d-52b0-421b-ad3e-97cc88e5d082",
        "colab": {
          "base_uri": "https://localhost:8080/"
        }
      },
      "execution_count": 49,
      "outputs": [
        {
          "output_type": "execute_result",
          "data": {
            "text/plain": [
              "(LinearRegressionModelV2(\n",
              "   (linear_layer): Linear(in_features=1, out_features=1, bias=True)\n",
              " ),\n",
              " OrderedDict([('linear_layer.weight', tensor([[0.7645]])),\n",
              "              ('linear_layer.bias', tensor([0.8300]))]))"
            ]
          },
          "metadata": {},
          "execution_count": 49
        }
      ]
    },
    {
      "cell_type": "code",
      "source": [
        "x_train[:5],y_train[:5]"
      ],
      "metadata": {
        "id": "ADsU7nVXajmQ",
        "outputId": "e4651fec-e898-46f6-b054-590c04bfb3c7",
        "colab": {
          "base_uri": "https://localhost:8080/"
        }
      },
      "execution_count": 48,
      "outputs": [
        {
          "output_type": "execute_result",
          "data": {
            "text/plain": [
              "(tensor([[0.0000],\n",
              "         [0.0200],\n",
              "         [0.0400],\n",
              "         [0.0600],\n",
              "         [0.0800]]),\n",
              " tensor([[0.3000],\n",
              "         [0.3140],\n",
              "         [0.3280],\n",
              "         [0.3420],\n",
              "         [0.3560]]))"
            ]
          },
          "metadata": {},
          "execution_count": 48
        }
      ]
    },
    {
      "cell_type": "code",
      "source": [
        "#check the model current device\n",
        "next(model_1.parameters()).device"
      ],
      "metadata": {
        "id": "6O7KgoqXarHB",
        "outputId": "2ad55ae3-344d-47fd-f956-2bd1f04ab5fb",
        "colab": {
          "base_uri": "https://localhost:8080/"
        }
      },
      "execution_count": 51,
      "outputs": [
        {
          "output_type": "execute_result",
          "data": {
            "text/plain": [
              "device(type='cpu')"
            ]
          },
          "metadata": {},
          "execution_count": 51
        }
      ]
    },
    {
      "cell_type": "code",
      "source": [
        "#set the model to use the target device\n",
        "model_1.to(device)\n",
        "next(model_1.parameters()).device"
      ],
      "metadata": {
        "id": "ohLUYhrvcJxw",
        "outputId": "2437b8bc-e540-44e5-8c8d-d36ef700ab59",
        "colab": {
          "base_uri": "https://localhost:8080/"
        }
      },
      "execution_count": 52,
      "outputs": [
        {
          "output_type": "execute_result",
          "data": {
            "text/plain": [
              "device(type='cpu')"
            ]
          },
          "metadata": {},
          "execution_count": 52
        }
      ]
    },
    {
      "cell_type": "markdown",
      "source": [
        "**6.3 Training**\n",
        "\n",
        "For Training we need:\n",
        "\n",
        "Loss function\n",
        "\n",
        "optimizer\n",
        "\n",
        "Training Loop\n",
        "\n",
        "Testing loop"
      ],
      "metadata": {
        "id": "qK4fkzr5cjTr"
      }
    },
    {
      "cell_type": "code",
      "source": [
        "#setup loss function\n",
        "loss_fn=nn.L1Loss()\n",
        "optimizer=torch.optim.SGD(params=model_1.parameters(),\n",
        "                          lr=0.01)"
      ],
      "metadata": {
        "id": "kfg1LW3EcdNM"
      },
      "execution_count": 53,
      "outputs": []
    },
    {
      "cell_type": "code",
      "source": [
        "torch.manual_seed(42)\n",
        "epochs=200\n",
        "x_train=x_train.to(device)\n",
        "y_train=y_train.to(device)\n",
        "x_test=x_test.to(device)\n",
        "y_test=y_test.to(device)\n",
        "for epoch in range(epochs):\n",
        "  model_1.train()\n",
        "  y_pred=model_1(x_train)\n",
        "  loss=loss_fn(y_pred,y_train)\n",
        "  optimizer.zero_grad()\n",
        "  loss.backward()\n",
        "  optimizer.step()\n",
        "  model_1.eval()\n",
        "  with torch.inference_mode():\n",
        "    test_pred=model_1(x_test)\n",
        "    test_loss=loss_fn(test_pred,y_test)\n",
        "  if epoch%10==0:\n",
        "    print(f\"Epoch:{epoch}|Loss: {loss}|Test loss: {test_loss}\")\n",
        "\n",
        "\n"
      ],
      "metadata": {
        "id": "WKPlYjEIdOT8",
        "outputId": "4174d8bd-0109-41da-e781-d92b33fc8861",
        "colab": {
          "base_uri": "https://localhost:8080/"
        }
      },
      "execution_count": 57,
      "outputs": [
        {
          "output_type": "stream",
          "name": "stdout",
          "text": [
            "Epoch:0|Loss: 0.0012645035749301314|Test loss: 0.013801807537674904\n",
            "Epoch:10|Loss: 0.0012645035749301314|Test loss: 0.013801807537674904\n",
            "Epoch:20|Loss: 0.0012645035749301314|Test loss: 0.013801807537674904\n",
            "Epoch:30|Loss: 0.0012645035749301314|Test loss: 0.013801807537674904\n",
            "Epoch:40|Loss: 0.0012645035749301314|Test loss: 0.013801807537674904\n",
            "Epoch:50|Loss: 0.0012645035749301314|Test loss: 0.013801807537674904\n",
            "Epoch:60|Loss: 0.0012645035749301314|Test loss: 0.013801807537674904\n",
            "Epoch:70|Loss: 0.0012645035749301314|Test loss: 0.013801807537674904\n",
            "Epoch:80|Loss: 0.0012645035749301314|Test loss: 0.013801807537674904\n",
            "Epoch:90|Loss: 0.0012645035749301314|Test loss: 0.013801807537674904\n",
            "Epoch:100|Loss: 0.0012645035749301314|Test loss: 0.013801807537674904\n",
            "Epoch:110|Loss: 0.0012645035749301314|Test loss: 0.013801807537674904\n",
            "Epoch:120|Loss: 0.0012645035749301314|Test loss: 0.013801807537674904\n",
            "Epoch:130|Loss: 0.0012645035749301314|Test loss: 0.013801807537674904\n",
            "Epoch:140|Loss: 0.0012645035749301314|Test loss: 0.013801807537674904\n",
            "Epoch:150|Loss: 0.0012645035749301314|Test loss: 0.013801807537674904\n",
            "Epoch:160|Loss: 0.0012645035749301314|Test loss: 0.013801807537674904\n",
            "Epoch:170|Loss: 0.0012645035749301314|Test loss: 0.013801807537674904\n",
            "Epoch:180|Loss: 0.0012645035749301314|Test loss: 0.013801807537674904\n",
            "Epoch:190|Loss: 0.0012645035749301314|Test loss: 0.013801807537674904\n"
          ]
        }
      ]
    },
    {
      "cell_type": "code",
      "source": [
        "model_1.state_dict()"
      ],
      "metadata": {
        "id": "opXpf6mNeV9r",
        "outputId": "88aad3f4-6c74-4b79-9cdf-e5f180870fc5",
        "colab": {
          "base_uri": "https://localhost:8080/"
        }
      },
      "execution_count": 58,
      "outputs": [
        {
          "output_type": "execute_result",
          "data": {
            "text/plain": [
              "OrderedDict([('linear_layer.weight', tensor([[0.6968]])),\n",
              "             ('linear_layer.bias', tensor([0.3025]))])"
            ]
          },
          "metadata": {},
          "execution_count": 58
        }
      ]
    },
    {
      "cell_type": "code",
      "source": [
        "weight,bias"
      ],
      "metadata": {
        "id": "gDj-mno1flwY",
        "outputId": "7112cfcd-0b4f-480c-e349-41f940258a1e",
        "colab": {
          "base_uri": "https://localhost:8080/"
        }
      },
      "execution_count": 59,
      "outputs": [
        {
          "output_type": "execute_result",
          "data": {
            "text/plain": [
              "(0.7, 0.3)"
            ]
          },
          "metadata": {},
          "execution_count": 59
        }
      ]
    },
    {
      "cell_type": "code",
      "source": [],
      "metadata": {
        "id": "b6gwJdNRfphh"
      },
      "execution_count": null,
      "outputs": []
    },
    {
      "cell_type": "markdown",
      "source": [
        "**Making and evaluating predictions**"
      ],
      "metadata": {
        "id": "DlzKZXR1f_ND"
      }
    },
    {
      "cell_type": "code",
      "source": [
        "model_1.eval()\n",
        "with torch.inference_mode():\n",
        "  y_preds=model_1(x_test)\n",
        "y_preds"
      ],
      "metadata": {
        "id": "xi-EONlngEnM",
        "outputId": "fe124918-8da7-476b-894d-696d8ef49ab1",
        "colab": {
          "base_uri": "https://localhost:8080/"
        }
      },
      "execution_count": 60,
      "outputs": [
        {
          "output_type": "execute_result",
          "data": {
            "text/plain": [
              "tensor([[0.8600],\n",
              "        [0.8739],\n",
              "        [0.8878],\n",
              "        [0.9018],\n",
              "        [0.9157],\n",
              "        [0.9296],\n",
              "        [0.9436],\n",
              "        [0.9575],\n",
              "        [0.9714],\n",
              "        [0.9854]])"
            ]
          },
          "metadata": {},
          "execution_count": 60
        }
      ]
    },
    {
      "cell_type": "code",
      "source": [
        "plot_predictions(predictions=y_preds.cpu())"
      ],
      "metadata": {
        "id": "4xZA9RjTgikc",
        "outputId": "f0b6422a-cd24-440e-dc25-660da139e20d",
        "colab": {
          "base_uri": "https://localhost:8080/",
          "height": 599
        }
      },
      "execution_count": 62,
      "outputs": [
        {
          "output_type": "display_data",
          "data": {
            "text/plain": [
              "<Figure size 1000x700 with 1 Axes>"
            ],
            "image/png": "[encoded data removed]"
          },
          "metadata": {}
        }
      ]
    },
    {
      "cell_type": "markdown",
      "source": [
        "**6.5 Saving and loading a trained model**"
      ],
      "metadata": {
        "id": "2GRxgFiBhWN1"
      }
    },
    {
      "cell_type": "code",
      "source": [
        "from pathlib import Path\n",
        "MODEL_PATH=Path(\"models\")\n",
        "MODEL_PATH.mkdir(parents=True,exist_ok=True)\n",
        "MODEL_NAME=\"01_pytorch_workflow_model_1.pth\"\n",
        "MODEL_SAVE_PATH=MODEL_PATH/MODEL_NAME\n",
        "print(f\"Saving model to:{MODEL_SAVE_PATH}\")\n",
        "torch.save(obj=model_1.state_dict(),\n",
        "           f=MODEL_SAVE_PATH)"
      ],
      "metadata": {
        "id": "yzVxoXNAhD1P",
        "outputId": "c42cab77-3789-4608-dfa1-95382edaf477",
        "colab": {
          "base_uri": "https://localhost:8080/"
        }
      },
      "execution_count": 68,
      "outputs": [
        {
          "output_type": "stream",
          "name": "stdout",
          "text": [
            "Saving model to:models/01_pytorch_workflow_model_1.pth\n"
          ]
        }
      ]
    },
    {
      "cell_type": "code",
      "source": [
        "model_1.state_dict()"
      ],
      "metadata": {
        "id": "eRwP90huiNUw",
        "outputId": "c6900a93-be10-4ae3-a684-7ca70fe4ab3d",
        "colab": {
          "base_uri": "https://localhost:8080/"
        }
      },
      "execution_count": 69,
      "outputs": [
        {
          "output_type": "execute_result",
          "data": {
            "text/plain": [
              "OrderedDict([('linear_layer.weight', tensor([[0.6968]])),\n",
              "             ('linear_layer.bias', tensor([0.3025]))])"
            ]
          },
          "metadata": {},
          "execution_count": 69
        }
      ]
    },
    {
      "cell_type": "code",
      "source": [
        "#load a pytorch model\n",
        "#create a new instance of linear Regression model V2\n",
        "loaded_model_1=LinearRegressionModelV2()\n",
        "#load thesaved model_1 state_dict\n",
        "loaded_model_1.load_state_dict(torch.load(MODEL_SAVE_PATH))\n",
        "#put the loaded model to device\n",
        "loaded_model_1.to(device)"
      ],
      "metadata": {
        "id": "o2fG0_sTi3np",
        "outputId": "8764fbc0-c53a-45df-804b-547f05c23f2a",
        "colab": {
          "base_uri": "https://localhost:8080/"
        }
      },
      "execution_count": 70,
      "outputs": [
        {
          "output_type": "execute_result",
          "data": {
            "text/plain": [
              "LinearRegressionModelV2(\n",
              "  (linear_layer): Linear(in_features=1, out_features=1, bias=True)\n",
              ")"
            ]
          },
          "metadata": {},
          "execution_count": 70
        }
      ]
    },
    {
      "cell_type": "code",
      "source": [
        "next(loaded_model_1.parameters()).device"
      ],
      "metadata": {
        "id": "TQpxG4LxjcUf",
        "outputId": "41c54ef0-a3a5-4f8d-c74e-79f87bfc203e",
        "colab": {
          "base_uri": "https://localhost:8080/"
        }
      },
      "execution_count": 72,
      "outputs": [
        {
          "output_type": "execute_result",
          "data": {
            "text/plain": [
              "device(type='cpu')"
            ]
          },
          "metadata": {},
          "execution_count": 72
        }
      ]
    },
    {
      "cell_type": "code",
      "source": [
        "loaded_model_1.state_dict()"
      ],
      "metadata": {
        "id": "0shSaWmgkYpH",
        "outputId": "3cb68b56-798b-4828-c9b9-123579901e8f",
        "colab": {
          "base_uri": "https://localhost:8080/"
        }
      },
      "execution_count": 73,
      "outputs": [
        {
          "output_type": "execute_result",
          "data": {
            "text/plain": [
              "OrderedDict([('linear_layer.weight', tensor([[0.6968]])),\n",
              "             ('linear_layer.bias', tensor([0.3025]))])"
            ]
          },
          "metadata": {},
          "execution_count": 73
        }
      ]
    },
    {
      "cell_type": "code",
      "source": [
        "#evalute loaded model\n",
        "loaded_model_1.eval()\n",
        "with torch.inference_mode():\n",
        "  loaded_model_1_preds=loaded_model_1(x_test)\n",
        "y_preds==loaded_model_1_preds"
      ],
      "metadata": {
        "id": "3nfh0mB9knJ-",
        "outputId": "9fb5871b-3fef-448d-ddf0-5ba16c3018e9",
        "colab": {
          "base_uri": "https://localhost:8080/"
        }
      },
      "execution_count": 74,
      "outputs": [
        {
          "output_type": "execute_result",
          "data": {
            "text/plain": [
              "tensor([[True],\n",
              "        [True],\n",
              "        [True],\n",
              "        [True],\n",
              "        [True],\n",
              "        [True],\n",
              "        [True],\n",
              "        [True],\n",
              "        [True],\n",
              "        [True]])"
            ]
          },
          "metadata": {},
          "execution_count": 74
        }
      ]
    },
    {
      "cell_type": "code",
      "source": [],
      "metadata": {
        "id": "z50m4Vn4k54e"
      },
      "execution_count": null,
      "outputs": []
    }
  ]
}